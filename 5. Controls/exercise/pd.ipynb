{
 "cells": [
  {
   "cell_type": "code",
   "execution_count": 1,
   "metadata": {},
   "outputs": [],
   "source": [
    "# -----------\n",
    "# User Instructions\n",
    "#\n",
    "# Implement a PD controller by running 100 iterations\n",
    "# of robot motion. The steering angle should be set\n",
    "# by the parameter tau_p and tau_d so that:\n",
    "#\n",
    "# steering = -tau_p * CTE - tau_d * diff_CTE\n",
    "# where differential crosstrack error (diff_CTE)\n",
    "# is given by CTE(t) - CTE(t-1)\n",
    "#\n",
    "#\n",
    "# Only modify code at the bottom! Look for the TODO\n",
    "# ------------"
   ]
  },
  {
   "cell_type": "code",
   "execution_count": 6,
   "metadata": {},
   "outputs": [],
   "source": [
    "import random\n",
    "import numpy as np\n",
    "import matplotlib.pyplot as plt\n",
    "import math"
   ]
  },
  {
   "cell_type": "code",
   "execution_count": 3,
   "metadata": {},
   "outputs": [],
   "source": [
    "# ------------------------------------------------\n",
    "# \n",
    "# this is the Robot class\n",
    "#\n",
    "\n",
    "class Robot(object):\n",
    "    def __init__(self, length=20.0):\n",
    "        \"\"\"\n",
    "        Creates robot and initializes location/orientation to 0, 0, 0.\n",
    "        \"\"\"\n",
    "        self.x = 0.0\n",
    "        self.y = 0.0\n",
    "        self.orientation = 0.0\n",
    "        self.length = length\n",
    "        self.steering_noise = 0.0\n",
    "        self.distance_noise = 0.0\n",
    "        self.steering_drift = 0.0\n",
    "\n",
    "    def set(self, x, y, orientation):\n",
    "        \"\"\"\n",
    "        Sets a robot coordinate.\n",
    "        \"\"\"\n",
    "        self.x = x\n",
    "        self.y = y\n",
    "        self.orientation = orientation % (2.0 * np.pi)\n",
    "\n",
    "    def set_noise(self, steering_noise, distance_noise):\n",
    "        \"\"\"\n",
    "        Sets the noise parameters.\n",
    "        \"\"\"\n",
    "        # makes it possible to change the noise parameters\n",
    "        # this is often useful in particle filters\n",
    "        self.steering_noise = steering_noise\n",
    "        self.distance_noise = distance_noise\n",
    "\n",
    "    def set_steering_drift(self, drift):\n",
    "        \"\"\"\n",
    "        Sets the systematical steering drift parameter\n",
    "        \"\"\"\n",
    "        self.steering_drift = drift\n",
    "\n",
    "    def move(self, steering, distance, tolerance=0.001, max_steering_angle=np.pi / 4.0):\n",
    "        \"\"\"\n",
    "        steering = front wheel steering angle, limited by max_steering_angle\n",
    "        distance = total distance driven, most be non-negative\n",
    "        \"\"\"\n",
    "        if steering > max_steering_angle:\n",
    "            steering = max_steering_angle\n",
    "        if steering < -max_steering_angle:\n",
    "            steering = -max_steering_angle\n",
    "        if distance < 0.0:\n",
    "            distance = 0.0\n",
    "\n",
    "        # apply noise\n",
    "        steering2 = random.gauss(steering, self.steering_noise)\n",
    "        distance2 = random.gauss(distance, self.distance_noise)\n",
    "\n",
    "        # apply steering drift\n",
    "        steering2 += self.steering_drift\n",
    "\n",
    "        # Execute motion\n",
    "        turn = np.tan(steering2) * distance2 / self.length\n",
    "\n",
    "        if abs(turn) < tolerance:\n",
    "            # approximate by straight line motion\n",
    "            self.x += distance2 * np.cos(self.orientation)\n",
    "            self.y += distance2 * np.sin(self.orientation)\n",
    "            self.orientation = (self.orientation + turn) % (2.0 * np.pi)\n",
    "        else:\n",
    "            # approximate bicycle model for motion\n",
    "            radius = distance2 / turn\n",
    "            cx = self.x - (np.sin(self.orientation) * radius)\n",
    "            cy = self.y + (np.cos(self.orientation) * radius)\n",
    "            self.orientation = (self.orientation + turn) % (2.0 * np.pi)\n",
    "            self.x = cx + (np.sin(self.orientation) * radius)\n",
    "            self.y = cy - (np.cos(self.orientation) * radius)\n",
    "\n",
    "    def __repr__(self):\n",
    "        return '[x=%.5f y=%.5f orient=%.5f]' % (self.x, self.y, self.orientation)"
   ]
  },
  {
   "cell_type": "code",
   "execution_count": 7,
   "metadata": {},
   "outputs": [],
   "source": [
    "############## ADD / MODIFY CODE BELOW ####################\n",
    "# ------------------------------------------------------------------------\n",
    "#\n",
    "# run - does a single control run\n",
    "\n",
    "# previous P controller\n",
    "def run_p(robot, tau, n=100, speed=1.0):\n",
    "    x_trajectory = []\n",
    "    y_trajectory = []\n",
    "    for i in range(n):\n",
    "        cte = robot.y\n",
    "        steer = -tau * cte\n",
    "        robot.move(steer, speed)\n",
    "        x_trajectory.append(robot.x)\n",
    "        y_trajectory.append(robot.y)\n",
    "    return x_trajectory, y_trajectory\n",
    "    \n",
    "robot = Robot()\n",
    "robot.set(0, 1, 0)\n",
    "robot.set_steering_drift(10/180*math.pi)\n",
    "\n",
    "\n",
    "def run(robot, tau_p, tau_d, n=100, speed=1.0):\n",
    "    x_trajectory = []\n",
    "    y_trajectory = []\n",
    "    # TODO: your code here\n",
    "    cte = [robot.y]\n",
    "    for i in range(1,n):\n",
    "        cte.append(robot.y)\n",
    "        steer = -tau_p * cte[i]  - tau_d * (cte[i] - cte[i-1])\n",
    "        robot.move(steer, speed)\n",
    "        x_trajectory.append(robot.x)\n",
    "        y_trajectory.append(robot.y)\n",
    "\n",
    "    return x_trajectory, y_trajectory"
   ]
  },
  {
   "cell_type": "code",
   "execution_count": 9,
   "metadata": {},
   "outputs": [
    {
     "data": {
      "text/plain": [
       "[<matplotlib.lines.Line2D at 0x10e623e90>]"
      ]
     },
     "execution_count": 9,
     "metadata": {},
     "output_type": "execute_result"
    },
    {
     "data": {
      "image/png": "[encoded data removed]",
      "text/plain": [
       "<Figure size 800x800 with 1 Axes>"
      ]
     },
     "metadata": {},
     "output_type": "display_data"
    }
   ],
   "source": [
    "x_trajectory, y_trajectory = run(robot, 0.2, 3.0)\n",
    "n = len(x_trajectory)\n",
    "\n",
    "fig, ax1 = plt.subplots(1, 1, figsize=(8, 8))\n",
    "ax1.plot(x_trajectory, y_trajectory, 'g', label='PD controller')\n",
    "ax1.plot(x_trajectory, np.zeros(n), 'r', label='reference')"
   ]
  },
  {
   "cell_type": "code",
   "execution_count": null,
   "metadata": {},
   "outputs": [],
   "source": []
  }
 ],
 "metadata": {
  "kernelspec": {
   "display_name": "Python 3",
   "language": "python",
   "name": "python3"
  },
  "language_info": {
   "codemirror_mode": {
    "name": "ipython",
    "version": 3
   },
   "file_extension": ".py",
   "mimetype": "text/x-python",
   "name": "python",
   "nbconvert_exporter": "python",
   "pygments_lexer": "ipython3",
   "version": "3.11.7"
  }
 },
 "nbformat": 4,
 "nbformat_minor": 2
}
